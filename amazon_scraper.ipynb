{
  "nbformat": 4,
  "nbformat_minor": 0,
  "metadata": {
    "colab": {
      "name": "amazon_scraper.ipynb",
      "provenance": [],
      "collapsed_sections": []
    },
    "kernelspec": {
      "name": "python3",
      "display_name": "Python 3"
    },
    "language_info": {
      "name": "python"
    }
  },
  "cells": [
    {
      "cell_type": "code",
      "metadata": {
        "colab": {
          "base_uri": "https://localhost:8080/"
        },
        "id": "1zd0WAqMPtDZ",
        "outputId": "3c340d76-c135-444a-d3b6-abb1a82de3ca"
      },
      "source": [
        "pip install requests bs4"
      ],
      "execution_count": 1,
      "outputs": [
        {
          "output_type": "stream",
          "name": "stdout",
          "text": [
            "Requirement already satisfied: requests in /usr/local/lib/python3.7/dist-packages (2.23.0)\n",
            "Requirement already satisfied: bs4 in /usr/local/lib/python3.7/dist-packages (0.0.1)\n",
            "Requirement already satisfied: urllib3!=1.25.0,!=1.25.1,<1.26,>=1.21.1 in /usr/local/lib/python3.7/dist-packages (from requests) (1.24.3)\n",
            "Requirement already satisfied: idna<3,>=2.5 in /usr/local/lib/python3.7/dist-packages (from requests) (2.10)\n",
            "Requirement already satisfied: certifi>=2017.4.17 in /usr/local/lib/python3.7/dist-packages (from requests) (2021.5.30)\n",
            "Requirement already satisfied: chardet<4,>=3.0.2 in /usr/local/lib/python3.7/dist-packages (from requests) (3.0.4)\n",
            "Requirement already satisfied: beautifulsoup4 in /usr/local/lib/python3.7/dist-packages (from bs4) (4.6.3)\n"
          ]
        }
      ]
    },
    {
      "cell_type": "code",
      "metadata": {
        "colab": {
          "base_uri": "https://localhost:8080/"
        },
        "id": "Re90OIPjQBCt",
        "outputId": "7d911066-c797-4fee-97c0-fbe17d6334c5"
      },
      "source": [
        "import requests\n",
        "from bs4 import BeautifulSoup\n",
        "import smtplib\n",
        "URL = \"https://www.amazon.in/Song-Ice-Fire-Thrones-Complete/dp/0007477155/ref=sr_1_1?crid=2DY3I678TZ45E&dchild=1&keywords=game+of+thrones+book+set&qid=1630162668&sprefix=game+of+%2Caps%2C348&sr=8-1\"\n",
        "\n",
        "def check_price():\n",
        "  headers = {\"User-Agent\": 'Mozilla/5.0 (Windows NT 10.0; Win64; x64; rv:91.0) Gecko/20100101 Firefox/91.0' }\n",
        "  page = requests.get(URL, headers = headers)\n",
        "  soup = BeautifulSoup(page.content, 'html.parser')\n",
        "  title = soup.find(id  = \"productTitle\").get_text()\n",
        "\n",
        "  print(title.strip())\n",
        "\n",
        "  try:\n",
        "    price = soup.find(id = \"soldByThirdParty\").get_text()\n",
        "    converted_price = int(price[2:7].replace(',','')) \n",
        "    #import re\n",
        "    #re.sub('[\\$,]', '', price)\n",
        "    #float(price.replace(',',''))\n",
        "    #converted_price =  float(price[2:7])\n",
        "    print(f\"Price:{converted_price}\")\n",
        "   \n",
        "  except AttributeError:\n",
        "    print(\"Price can't be located, check your code\")\n",
        "   \n",
        "    \n",
        "\n",
        "  if(converted_price>2000):\n",
        "    send_mail()\n",
        "   \n",
        "def send_mail():\n",
        "    server = smtplib.SMTP('smtp.gmail.com', 587)\n",
        "    server.ehlo()\n",
        "    server.starttls()\n",
        "    server.ehlo()\n",
        "\n",
        "    server.login('guptaayush9112@gmail.com', 'zqrxnpzysxoczgww')\n",
        "\n",
        "    subject = 'Price fell down!'\n",
        "    body = 'Check the amazon link' + \"\\nhttps://www.amazon.in/Song-Ice-Fire-Thrones-Complete/dp/0007477155/ref=sr_1_1?crid=2DY3I678TZ45E&dchild=1&keywords=game+of+thrones+book+set&qid=1630162668&sprefix=game+of+%2Caps%2C348&sr=8-1\"\n",
        "  \n",
        "    msg = f\"Subject: {subject}\\n\\n{body}\"\n",
        "\n",
        "    server.sendmail(\n",
        "        'guptaayush9112@gmail.com',\n",
        "        'guptaayush9112@gmail.com',\n",
        "        msg\n",
        "    )\n",
        "\n",
        "    print(\"Email has been sent!\")\n",
        "    server.quit()\n",
        "\n",
        "    \n",
        "\n",
        "\n",
        "check_price()\n",
        "\n",
        "\n",
        "\n",
        "\n",
        "\n",
        "\n"
      ],
      "execution_count": 3,
      "outputs": [
        {
          "output_type": "stream",
          "name": "stdout",
          "text": [
            "A Song of Ice and Fire - A Game of Thrones: The Complete Boxset of 7 Books\n",
            "Price:3154\n",
            "Email has been sent!\n"
          ]
        }
      ]
    },
    {
      "cell_type": "code",
      "metadata": {
        "id": "gRplrozrVbr9"
      },
      "source": [
        ""
      ],
      "execution_count": null,
      "outputs": []
    }
  ]
}